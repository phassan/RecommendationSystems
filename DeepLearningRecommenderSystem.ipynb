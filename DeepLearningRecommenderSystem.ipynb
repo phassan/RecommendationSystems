{
 "cells": [
  {
   "cell_type": "markdown",
   "metadata": {},
   "source": [
    "## Building a Deep Learning Based Movie Recommendation System based on Collaborative Filtering using Keras"
   ]
  },
  {
   "cell_type": "code",
   "execution_count": 1,
   "metadata": {},
   "outputs": [
    {
     "name": "stderr",
     "output_type": "stream",
     "text": [
      "Using TensorFlow backend.\n"
     ]
    }
   ],
   "source": [
    "import numpy as np\n",
    "import pandas as pd\n",
    "import matplotlib.pyplot as plt\n",
    "%matplotlib inline\n",
    "\n",
    "from sklearn.model_selection import train_test_split\n",
    "from sklearn.preprocessing import LabelEncoder\n",
    "\n",
    "from keras import backend\n",
    "from keras.models import Model\n",
    "from keras.layers import Input, Concatenate, Dropout, Dense\n",
    "from keras.layers.embeddings import Embedding\n",
    "from keras.optimizers import Adam\n",
    "from keras.regularizers import l2\n",
    "\n",
    "import warnings\n",
    "warnings.filterwarnings('ignore')"
   ]
  },
  {
   "cell_type": "markdown",
   "metadata": {},
   "source": [
    "### Import Dependencies"
   ]
  },
  {
   "cell_type": "code",
   "execution_count": 2,
   "metadata": {},
   "outputs": [
    {
     "data": {
      "text/html": [
       "<div>\n",
       "<style scoped>\n",
       "    .dataframe tbody tr th:only-of-type {\n",
       "        vertical-align: middle;\n",
       "    }\n",
       "\n",
       "    .dataframe tbody tr th {\n",
       "        vertical-align: top;\n",
       "    }\n",
       "\n",
       "    .dataframe thead th {\n",
       "        text-align: right;\n",
       "    }\n",
       "</style>\n",
       "<table border=\"1\" class=\"dataframe\">\n",
       "  <thead>\n",
       "    <tr style=\"text-align: right;\">\n",
       "      <th></th>\n",
       "      <th>userId</th>\n",
       "      <th>movieId</th>\n",
       "      <th>rating</th>\n",
       "      <th>timestamp</th>\n",
       "    </tr>\n",
       "  </thead>\n",
       "  <tbody>\n",
       "    <tr>\n",
       "      <th>0</th>\n",
       "      <td>1</td>\n",
       "      <td>1</td>\n",
       "      <td>4.0</td>\n",
       "      <td>964982703</td>\n",
       "    </tr>\n",
       "    <tr>\n",
       "      <th>1</th>\n",
       "      <td>1</td>\n",
       "      <td>3</td>\n",
       "      <td>4.0</td>\n",
       "      <td>964981247</td>\n",
       "    </tr>\n",
       "    <tr>\n",
       "      <th>2</th>\n",
       "      <td>1</td>\n",
       "      <td>6</td>\n",
       "      <td>4.0</td>\n",
       "      <td>964982224</td>\n",
       "    </tr>\n",
       "    <tr>\n",
       "      <th>3</th>\n",
       "      <td>1</td>\n",
       "      <td>47</td>\n",
       "      <td>5.0</td>\n",
       "      <td>964983815</td>\n",
       "    </tr>\n",
       "    <tr>\n",
       "      <th>4</th>\n",
       "      <td>1</td>\n",
       "      <td>50</td>\n",
       "      <td>5.0</td>\n",
       "      <td>964982931</td>\n",
       "    </tr>\n",
       "  </tbody>\n",
       "</table>\n",
       "</div>"
      ],
      "text/plain": [
       "   userId  movieId  rating  timestamp\n",
       "0       1        1     4.0  964982703\n",
       "1       1        3     4.0  964981247\n",
       "2       1        6     4.0  964982224\n",
       "3       1       47     5.0  964983815\n",
       "4       1       50     5.0  964982931"
      ]
     },
     "execution_count": 2,
     "metadata": {},
     "output_type": "execute_result"
    }
   ],
   "source": [
    "ratings = pd.read_csv(\"ml-latest-small/ratings.csv\")\n",
    "ratings.head()"
   ]
  },
  {
   "cell_type": "code",
   "execution_count": 3,
   "metadata": {},
   "outputs": [
    {
     "data": {
      "text/html": [
       "<div>\n",
       "<style scoped>\n",
       "    .dataframe tbody tr th:only-of-type {\n",
       "        vertical-align: middle;\n",
       "    }\n",
       "\n",
       "    .dataframe tbody tr th {\n",
       "        vertical-align: top;\n",
       "    }\n",
       "\n",
       "    .dataframe thead th {\n",
       "        text-align: right;\n",
       "    }\n",
       "</style>\n",
       "<table border=\"1\" class=\"dataframe\">\n",
       "  <thead>\n",
       "    <tr style=\"text-align: right;\">\n",
       "      <th></th>\n",
       "      <th>movieId</th>\n",
       "      <th>title</th>\n",
       "      <th>genres</th>\n",
       "    </tr>\n",
       "  </thead>\n",
       "  <tbody>\n",
       "    <tr>\n",
       "      <th>0</th>\n",
       "      <td>1</td>\n",
       "      <td>Toy Story (1995)</td>\n",
       "      <td>Adventure|Animation|Children|Comedy|Fantasy</td>\n",
       "    </tr>\n",
       "    <tr>\n",
       "      <th>1</th>\n",
       "      <td>2</td>\n",
       "      <td>Jumanji (1995)</td>\n",
       "      <td>Adventure|Children|Fantasy</td>\n",
       "    </tr>\n",
       "    <tr>\n",
       "      <th>2</th>\n",
       "      <td>3</td>\n",
       "      <td>Grumpier Old Men (1995)</td>\n",
       "      <td>Comedy|Romance</td>\n",
       "    </tr>\n",
       "    <tr>\n",
       "      <th>3</th>\n",
       "      <td>4</td>\n",
       "      <td>Waiting to Exhale (1995)</td>\n",
       "      <td>Comedy|Drama|Romance</td>\n",
       "    </tr>\n",
       "    <tr>\n",
       "      <th>4</th>\n",
       "      <td>5</td>\n",
       "      <td>Father of the Bride Part II (1995)</td>\n",
       "      <td>Comedy</td>\n",
       "    </tr>\n",
       "  </tbody>\n",
       "</table>\n",
       "</div>"
      ],
      "text/plain": [
       "   movieId                               title  \\\n",
       "0        1                    Toy Story (1995)   \n",
       "1        2                      Jumanji (1995)   \n",
       "2        3             Grumpier Old Men (1995)   \n",
       "3        4            Waiting to Exhale (1995)   \n",
       "4        5  Father of the Bride Part II (1995)   \n",
       "\n",
       "                                        genres  \n",
       "0  Adventure|Animation|Children|Comedy|Fantasy  \n",
       "1                   Adventure|Children|Fantasy  \n",
       "2                               Comedy|Romance  \n",
       "3                         Comedy|Drama|Romance  \n",
       "4                                       Comedy  "
      ]
     },
     "execution_count": 3,
     "metadata": {},
     "output_type": "execute_result"
    }
   ],
   "source": [
    "movies = pd.read_csv('ml-latest-small/movies.csv')\n",
    "movies.head()"
   ]
  },
  {
   "cell_type": "markdown",
   "metadata": {},
   "source": [
    "### Data preprocessing"
   ]
  },
  {
   "cell_type": "code",
   "execution_count": 4,
   "metadata": {},
   "outputs": [
    {
     "data": {
      "text/plain": [
       "(610, 9724, 0.5, 5.0)"
      ]
     },
     "execution_count": 4,
     "metadata": {},
     "output_type": "execute_result"
    }
   ],
   "source": [
    "user_ids = ratings[\"userId\"].unique().tolist()\n",
    "\n",
    "user_le = LabelEncoder()\n",
    "ratings['user'] = user_le.fit_transform(ratings['userId'].values)\n",
    "\n",
    "le_user_mapping = dict(zip(user_le.classes_, user_le.transform(user_le.classes_)))\n",
    "\n",
    "n_users = ratings['user'].nunique()\n",
    "\n",
    "movie_ids = ratings[\"movieId\"].unique().tolist()\n",
    "\n",
    "movie_le = LabelEncoder()\n",
    "ratings['movie'] = movie_le.fit_transform(ratings['movieId'].values)\n",
    "\n",
    "le_movie_mapping = dict(zip(movie_le.classes_, movie_le.transform(movie_le.classes_)))\n",
    "movie_mapping_le = dict(zip(le_movie_mapping.values(),le_movie_mapping.keys()))\n",
    "\n",
    "n_movies = ratings['movie'].nunique()\n",
    "\n",
    "ratings['rating'] = ratings['rating'].values.astype(np.float32)\n",
    "\n",
    "min_rating = min(ratings['rating'])\n",
    "max_rating = max(ratings['rating'])\n",
    "\n",
    "n_users, n_movies, min_rating, max_rating"
   ]
  },
  {
   "cell_type": "code",
   "execution_count": 5,
   "metadata": {},
   "outputs": [
    {
     "data": {
      "text/html": [
       "<div>\n",
       "<style scoped>\n",
       "    .dataframe tbody tr th:only-of-type {\n",
       "        vertical-align: middle;\n",
       "    }\n",
       "\n",
       "    .dataframe tbody tr th {\n",
       "        vertical-align: top;\n",
       "    }\n",
       "\n",
       "    .dataframe thead th {\n",
       "        text-align: right;\n",
       "    }\n",
       "</style>\n",
       "<table border=\"1\" class=\"dataframe\">\n",
       "  <thead>\n",
       "    <tr style=\"text-align: right;\">\n",
       "      <th></th>\n",
       "      <th>userId</th>\n",
       "      <th>movieId</th>\n",
       "      <th>rating</th>\n",
       "      <th>timestamp</th>\n",
       "      <th>user</th>\n",
       "      <th>movie</th>\n",
       "    </tr>\n",
       "  </thead>\n",
       "  <tbody>\n",
       "    <tr>\n",
       "      <th>0</th>\n",
       "      <td>1</td>\n",
       "      <td>1</td>\n",
       "      <td>4.0</td>\n",
       "      <td>964982703</td>\n",
       "      <td>0</td>\n",
       "      <td>0</td>\n",
       "    </tr>\n",
       "    <tr>\n",
       "      <th>1</th>\n",
       "      <td>1</td>\n",
       "      <td>3</td>\n",
       "      <td>4.0</td>\n",
       "      <td>964981247</td>\n",
       "      <td>0</td>\n",
       "      <td>2</td>\n",
       "    </tr>\n",
       "    <tr>\n",
       "      <th>2</th>\n",
       "      <td>1</td>\n",
       "      <td>6</td>\n",
       "      <td>4.0</td>\n",
       "      <td>964982224</td>\n",
       "      <td>0</td>\n",
       "      <td>5</td>\n",
       "    </tr>\n",
       "    <tr>\n",
       "      <th>3</th>\n",
       "      <td>1</td>\n",
       "      <td>47</td>\n",
       "      <td>5.0</td>\n",
       "      <td>964983815</td>\n",
       "      <td>0</td>\n",
       "      <td>43</td>\n",
       "    </tr>\n",
       "    <tr>\n",
       "      <th>4</th>\n",
       "      <td>1</td>\n",
       "      <td>50</td>\n",
       "      <td>5.0</td>\n",
       "      <td>964982931</td>\n",
       "      <td>0</td>\n",
       "      <td>46</td>\n",
       "    </tr>\n",
       "  </tbody>\n",
       "</table>\n",
       "</div>"
      ],
      "text/plain": [
       "   userId  movieId  rating  timestamp  user  movie\n",
       "0       1        1     4.0  964982703     0      0\n",
       "1       1        3     4.0  964981247     0      2\n",
       "2       1        6     4.0  964982224     0      5\n",
       "3       1       47     5.0  964983815     0     43\n",
       "4       1       50     5.0  964982931     0     46"
      ]
     },
     "execution_count": 5,
     "metadata": {},
     "output_type": "execute_result"
    }
   ],
   "source": [
    "ratings.head()"
   ]
  },
  {
   "cell_type": "markdown",
   "metadata": {},
   "source": [
    "### Prepare training/test data"
   ]
  },
  {
   "cell_type": "code",
   "execution_count": 6,
   "metadata": {},
   "outputs": [
    {
     "data": {
      "text/plain": [
       "((90752, 2), (10084, 2), (90752,), (10084,))"
      ]
     },
     "execution_count": 6,
     "metadata": {},
     "output_type": "execute_result"
    }
   ],
   "source": [
    "X = ratings[['user', 'movie']].values\n",
    "# Normalize the targets between 0 and 1.\n",
    "y = ratings['rating'].apply(lambda x: (x - min_rating) / (max_rating - min_rating)).values\n",
    "\n",
    "X_train, X_test, y_train, y_test = train_test_split(X, y, test_size=0.1, random_state=1)\n",
    "\n",
    "X_train.shape, X_test.shape, y_train.shape, y_test.shape"
   ]
  },
  {
   "cell_type": "markdown",
   "metadata": {},
   "source": [
    "### Build the model"
   ]
  },
  {
   "cell_type": "code",
   "execution_count": 7,
   "metadata": {},
   "outputs": [],
   "source": [
    "def rmse(y_true, y_pred):\n",
    "    return backend.sqrt(backend.mean(backend.square(y_pred - y_true), axis=-1))"
   ]
  },
  {
   "cell_type": "code",
   "execution_count": 8,
   "metadata": {},
   "outputs": [],
   "source": [
    "embedding_size = 50\n",
    "\n",
    "class Recommender(Model):\n",
    "    def __init__(self, num_users, num_movies, embedding_size, **kwargs):\n",
    "        super(Recommender, self).__init__(**kwargs)\n",
    "        self.num_users = num_users\n",
    "        self.num_movies = num_movies\n",
    "        self.embedding_size = embedding_size\n",
    "        self.user_embedding = Embedding(\n",
    "            num_users,\n",
    "            embedding_size,\n",
    "            embeddings_initializer=\"he_normal\",\n",
    "            embeddings_regularizer=l2(1e-6),\n",
    "        )\n",
    "\n",
    "        self.movie_embedding = Embedding(\n",
    "            num_movies,\n",
    "            embedding_size,\n",
    "            embeddings_initializer=\"he_normal\",\n",
    "            embeddings_regularizer=l2(1e-6),\n",
    "        )\n",
    "\n",
    "    def call(self, inputs):\n",
    "        user_vector = self.user_embedding(inputs[:, 0])\n",
    "        movie_vector = self.movie_embedding(inputs[:, 1])\n",
    "        \n",
    "        x = Concatenate()([user_vector, movie_vector])\n",
    "        x = Dropout(0.05)(x)\n",
    "        x = Dense(1024, activation='relu', kernel_initializer='he_normal')(x)\n",
    "        x = Dropout(0.5)(x)\n",
    "        x = Dense(1, kernel_initializer='he_normal')(x)\n",
    "        \n",
    "        return x"
   ]
  },
  {
   "cell_type": "code",
   "execution_count": 9,
   "metadata": {},
   "outputs": [],
   "source": [
    "model = Recommender(n_users, n_movies, embedding_size)\n",
    "model.compile(loss='mse', optimizer=Adam(lr=0.001), metrics=[rmse])"
   ]
  },
  {
   "cell_type": "markdown",
   "metadata": {},
   "source": [
    "### Train the model"
   ]
  },
  {
   "cell_type": "code",
   "execution_count": 10,
   "metadata": {},
   "outputs": [
    {
     "name": "stdout",
     "output_type": "stream",
     "text": [
      "Train on 90752 samples, validate on 10084 samples\n",
      "Epoch 1/20\n",
      "90752/90752 [==============================] - 13s 148us/step - loss: 0.1263 - rmse: 0.2799 - val_loss: 0.0444 - val_rmse: 0.1638\n",
      "Epoch 2/20\n",
      "90752/90752 [==============================] - 18s 194us/step - loss: 0.0534 - rmse: 0.1815 - val_loss: 0.0412 - val_rmse: 0.1557\n",
      "Epoch 3/20\n",
      "90752/90752 [==============================] - 14s 153us/step - loss: 0.0501 - rmse: 0.1742 - val_loss: 0.0413 - val_rmse: 0.1551\n",
      "Epoch 4/20\n",
      "90752/90752 [==============================] - 12s 131us/step - loss: 0.0491 - rmse: 0.1715 - val_loss: 0.0418 - val_rmse: 0.1553\n",
      "Epoch 5/20\n",
      "90752/90752 [==============================] - 13s 147us/step - loss: 0.0487 - rmse: 0.1704 - val_loss: 0.0421 - val_rmse: 0.1559\n",
      "Epoch 6/20\n",
      "90752/90752 [==============================] - 23s 250us/step - loss: 0.0480 - rmse: 0.1686 - val_loss: 0.0424 - val_rmse: 0.1560\n",
      "Epoch 7/20\n",
      "90752/90752 [==============================] - 26s 282us/step - loss: 0.0476 - rmse: 0.1684 - val_loss: 0.0424 - val_rmse: 0.1560\n",
      "Epoch 8/20\n",
      "90752/90752 [==============================] - 22s 242us/step - loss: 0.0474 - rmse: 0.1671 - val_loss: 0.0427 - val_rmse: 0.1561\n",
      "Epoch 9/20\n",
      "90752/90752 [==============================] - 15s 162us/step - loss: 0.0468 - rmse: 0.1661 - val_loss: 0.0429 - val_rmse: 0.1565\n",
      "Epoch 10/20\n",
      "90752/90752 [==============================] - 14s 159us/step - loss: 0.0468 - rmse: 0.1662 - val_loss: 0.0428 - val_rmse: 0.1561\n",
      "Epoch 11/20\n",
      "90752/90752 [==============================] - 15s 170us/step - loss: 0.0467 - rmse: 0.1659 - val_loss: 0.0431 - val_rmse: 0.1560\n",
      "Epoch 12/20\n",
      "90752/90752 [==============================] - 16s 181us/step - loss: 0.0463 - rmse: 0.1652 - val_loss: 0.0432 - val_rmse: 0.1568\n",
      "Epoch 13/20\n",
      "90752/90752 [==============================] - 18s 193us/step - loss: 0.0462 - rmse: 0.1645 - val_loss: 0.0430 - val_rmse: 0.1558\n",
      "Epoch 14/20\n",
      "90752/90752 [==============================] - 25s 277us/step - loss: 0.0460 - rmse: 0.1642 - val_loss: 0.0430 - val_rmse: 0.1556\n",
      "Epoch 15/20\n",
      "90752/90752 [==============================] - 18s 201us/step - loss: 0.0458 - rmse: 0.1638 - val_loss: 0.0433 - val_rmse: 0.1559\n",
      "Epoch 16/20\n",
      "90752/90752 [==============================] - 17s 184us/step - loss: 0.0458 - rmse: 0.1637 - val_loss: 0.0434 - val_rmse: 0.1561\n",
      "Epoch 17/20\n",
      "90752/90752 [==============================] - 20s 221us/step - loss: 0.0455 - rmse: 0.1632 - val_loss: 0.0435 - val_rmse: 0.1565\n",
      "Epoch 18/20\n",
      "90752/90752 [==============================] - 26s 283us/step - loss: 0.0454 - rmse: 0.1631 - val_loss: 0.0429 - val_rmse: 0.1552\n",
      "Epoch 19/20\n",
      "90752/90752 [==============================] - 25s 274us/step - loss: 0.0451 - rmse: 0.1623 - val_loss: 0.0432 - val_rmse: 0.1563\n",
      "Epoch 20/20\n",
      "90752/90752 [==============================] - 16s 174us/step - loss: 0.0451 - rmse: 0.1626 - val_loss: 0.0429 - val_rmse: 0.1556\n"
     ]
    }
   ],
   "source": [
    "history = model.fit(\n",
    "    x=X_train,\n",
    "    y=y_train,\n",
    "    batch_size=64,\n",
    "    epochs=20,\n",
    "    verbose=1,\n",
    "    validation_data=(X_test, y_test),\n",
    ")"
   ]
  },
  {
   "cell_type": "code",
   "execution_count": 11,
   "metadata": {
    "scrolled": true
   },
   "outputs": [
    {
     "data": {
      "image/png": "[encoded data removed]",
      "text/plain": [
       "<Figure size 432x288 with 1 Axes>"
      ]
     },
     "metadata": {
      "needs_background": "light"
     },
     "output_type": "display_data"
    }
   ],
   "source": [
    "plt.plot(history.history[\"loss\"])\n",
    "plt.plot(history.history[\"val_loss\"])\n",
    "plt.title(\"model loss\")\n",
    "plt.ylabel(\"loss\")\n",
    "plt.xlabel(\"epoch\")\n",
    "plt.legend([\"train\", \"test\"], loc=\"upper right\")\n",
    "plt.show()"
   ]
  },
  {
   "cell_type": "code",
   "execution_count": 12,
   "metadata": {},
   "outputs": [
    {
     "data": {
      "image/png": "[encoded data removed]",
      "text/plain": [
       "<Figure size 432x288 with 1 Axes>"
      ]
     },
     "metadata": {
      "needs_background": "light"
     },
     "output_type": "display_data"
    }
   ],
   "source": [
    "# plot training curve for rmse\n",
    "plt.plot(history.history['rmse'])\n",
    "plt.plot(history.history['val_rmse'])\n",
    "plt.title('RMSE')\n",
    "plt.ylabel('rmse')\n",
    "plt.xlabel('epoch')\n",
    "plt.legend(['train', 'test'], loc='upper right')\n",
    "plt.show()"
   ]
  },
  {
   "cell_type": "markdown",
   "metadata": {},
   "source": [
    "### Show the top 10 movie recommendations for a user"
   ]
  },
  {
   "cell_type": "code",
   "execution_count": 13,
   "metadata": {},
   "outputs": [
    {
     "name": "stdout",
     "output_type": "stream",
     "text": [
      "Showing recommendations for user: 312\n",
      "=======================================\n",
      "Movies with high ratings from user\n",
      "---------------------------------------\n",
      "Schindler's List (1993)\n",
      "Dr. Strangelove or: How I Learned to Stop Worrying and Love the Bomb (1964)\n",
      "English Patient, The (1996)\n",
      "Star Wars: Episode V - The Empire Strikes Back (1980)\n",
      "Chinatown (1974)\n",
      "Koyaanisqatsi (a.k.a. Koyaanisqatsi: Life Out of Balance) (1983)\n",
      "Close Encounters of the Third Kind (1977)\n",
      "Empire of the Sun (1987)\n",
      "Evil Dead, The (1981)\n",
      "Suspiria (1977)\n",
      "#######################################\n",
      "Top 10 movie recommendations\n",
      "---------------------------------------\n",
      "World of Apu, The (Apur Sansar) (1959)\n",
      "Meet Me in St. Louis (1944)\n",
      "Secrets & Lies (1996)\n",
      "Swept Away (Travolti da un insolito destino nell'azzurro mare d'Agosto) (1975)\n",
      "Woman in the Dunes (Suna no onna) (1964)\n",
      "Jonah Who Will Be 25 in the Year 2000 (Jonas qui aura 25 ans en l'an 2000) (1976)\n",
      "Blood Simple (1984)\n",
      "Wild Tales (2014)\n",
      "Captain Fantastic (2016)\n",
      "Band of Brothers (2001)\n"
     ]
    }
   ],
   "source": [
    "# Get a user for recommendations.\n",
    "user_id = ratings['userId'].sample(1).iloc[0]\n",
    "\n",
    "movies_watched_by_user = ratings[ratings['userId'] == user_id]\n",
    "movies_not_watched_by_user = list(set(movie_ids).difference(set(movies_watched_by_user.movieId.values)))\n",
    "movies_not_watched_by_user = [[le_movie_mapping.get(x)] for x in movies_not_watched_by_user]\n",
    "\n",
    "user_encoded = le_user_mapping.get(user_id)\n",
    "combined_user_movie_array = np.hstack(\n",
    "    ([[user_encoded]] * len(movies_not_watched_by_user), movies_not_watched_by_user)\n",
    ")\n",
    "\n",
    "movie_ratings = model.predict(combined_user_movie_array).flatten()\n",
    "top_ratings_indices = np.flipud(movie_ratings.argsort()[-10:])\n",
    "\n",
    "recommended_movie_ids = [\n",
    "    movie_mapping_le.get(movies_not_watched_by_user[x][0]) for x in top_ratings_indices\n",
    "]\n",
    "\n",
    "print(\"Showing recommendations for user: {}\".format(user_id))\n",
    "print(\"===\" * 13)\n",
    "print(\"Movies with high ratings from user\")\n",
    "print(\"---\" * 13)\n",
    "\n",
    "top_movie_ids_rated_by_user = movies_watched_by_user.sort_values(by=\"rating\", ascending=False).movieId.values[:10]\n",
    "top_movies_rated_by_user = movies[movies[\"movieId\"].isin(top_movie_ids_rated_by_user)].title.values\n",
    "\n",
    "for i in range(len(top_movies_rated_by_user)): \n",
    "    print (top_movies_rated_by_user[i])\n",
    "    \n",
    "print(\"###\" * 13)\n",
    "print(\"Top 10 movie recommendations\")\n",
    "print(\"---\" * 13)\n",
    "recommended_movies = movies[movies[\"movieId\"].isin(recommended_movie_ids)].title.values\n",
    "\n",
    "for j in range(len(recommended_movies)): \n",
    "    print (recommended_movies[j])"
   ]
  },
  {
   "cell_type": "code",
   "execution_count": null,
   "metadata": {},
   "outputs": [],
   "source": []
  }
 ],
 "metadata": {
  "kernelspec": {
   "display_name": "Python 3",
   "language": "python",
   "name": "python3"
  },
  "language_info": {
   "codemirror_mode": {
    "name": "ipython",
    "version": 3
   },
   "file_extension": ".py",
   "mimetype": "text/x-python",
   "name": "python",
   "nbconvert_exporter": "python",
   "pygments_lexer": "ipython3",
   "version": "3.7.4"
  }
 },
 "nbformat": 4,
 "nbformat_minor": 4
}
